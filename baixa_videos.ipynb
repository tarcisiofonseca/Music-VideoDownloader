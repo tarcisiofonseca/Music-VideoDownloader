{
  "nbformat": 4,
  "nbformat_minor": 0,
  "metadata": {
    "colab": {
      "provenance": []
    },
    "kernelspec": {
      "name": "python3",
      "display_name": "Python 3"
    },
    "language_info": {
      "name": "python"
    }
  },
  "cells": [
    {
      "cell_type": "code",
      "source": [
        "pip install shutil"
      ],
      "metadata": {
        "colab": {
          "base_uri": "https://localhost:8080/"
        },
        "id": "6BbkmUA27eY5",
        "outputId": "45451408-6b82-4c19-94ea-8851485aa81a"
      },
      "execution_count": 1,
      "outputs": [
        {
          "output_type": "stream",
          "name": "stdout",
          "text": [
            "\u001b[31mERROR: Could not find a version that satisfies the requirement shutil (from versions: none)\u001b[0m\u001b[31m\n",
            "\u001b[0m\u001b[31mERROR: No matching distribution found for shutil\u001b[0m\u001b[31m\n",
            "\u001b[0m"
          ]
        }
      ]
    },
    {
      "cell_type": "code",
      "source": [
        "pip install pytube"
      ],
      "metadata": {
        "colab": {
          "base_uri": "https://localhost:8080/"
        },
        "id": "HanEWtZesvjY",
        "outputId": "b8275e3f-8a50-4243-fbde-730e4a0f2ae3"
      },
      "execution_count": 2,
      "outputs": [
        {
          "output_type": "stream",
          "name": "stdout",
          "text": [
            "Collecting pytube\n",
            "  Downloading pytube-15.0.0-py3-none-any.whl (57 kB)\n",
            "\u001b[?25l     \u001b[90m━━━━━━━━━━━━━━━━━━━━━━━━━━━━━━━━━━━━━━━━\u001b[0m \u001b[32m0.0/57.6 kB\u001b[0m \u001b[31m?\u001b[0m eta \u001b[36m-:--:--\u001b[0m\r\u001b[2K     \u001b[90m━━━━━━━━━━━━━━━━━━━━━━━━━━━━━━━━━━━━━━━━\u001b[0m \u001b[32m57.6/57.6 kB\u001b[0m \u001b[31m1.8 MB/s\u001b[0m eta \u001b[36m0:00:00\u001b[0m\n",
            "\u001b[?25hInstalling collected packages: pytube\n",
            "Successfully installed pytube-15.0.0\n"
          ]
        }
      ]
    },
    {
      "cell_type": "code",
      "source": [
        "pip install -U yt-dlp"
      ],
      "metadata": {
        "colab": {
          "base_uri": "https://localhost:8080/"
        },
        "id": "bgAzqtus4kXF",
        "outputId": "10df57b7-009e-488d-8f98-47450ae5a9fb"
      },
      "execution_count": 3,
      "outputs": [
        {
          "output_type": "stream",
          "name": "stdout",
          "text": [
            "Collecting yt-dlp\n",
            "  Downloading yt_dlp-2023.10.13-py2.py3-none-any.whl (3.1 MB)\n",
            "\u001b[2K     \u001b[90m━━━━━━━━━━━━━━━━━━━━━━━━━━━━━━━━━━━━━━━━\u001b[0m \u001b[32m3.1/3.1 MB\u001b[0m \u001b[31m18.5 MB/s\u001b[0m eta \u001b[36m0:00:00\u001b[0m\n",
            "\u001b[?25hCollecting mutagen (from yt-dlp)\n",
            "  Downloading mutagen-1.47.0-py3-none-any.whl (194 kB)\n",
            "\u001b[2K     \u001b[90m━━━━━━━━━━━━━━━━━━━━━━━━━━━━━━━━━━━━━━━━\u001b[0m \u001b[32m194.4/194.4 kB\u001b[0m \u001b[31m19.7 MB/s\u001b[0m eta \u001b[36m0:00:00\u001b[0m\n",
            "\u001b[?25hCollecting pycryptodomex (from yt-dlp)\n",
            "  Downloading pycryptodomex-3.19.0-cp35-abi3-manylinux_2_17_x86_64.manylinux2014_x86_64.whl (2.1 MB)\n",
            "\u001b[2K     \u001b[90m━━━━━━━━━━━━━━━━━━━━━━━━━━━━━━━━━━━━━━━━\u001b[0m \u001b[32m2.1/2.1 MB\u001b[0m \u001b[31m57.9 MB/s\u001b[0m eta \u001b[36m0:00:00\u001b[0m\n",
            "\u001b[?25hCollecting websockets (from yt-dlp)\n",
            "  Downloading websockets-11.0.3-cp310-cp310-manylinux_2_5_x86_64.manylinux1_x86_64.manylinux_2_17_x86_64.manylinux2014_x86_64.whl (129 kB)\n",
            "\u001b[2K     \u001b[90m━━━━━━━━━━━━━━━━━━━━━━━━━━━━━━━━━━━━━━━━\u001b[0m \u001b[32m129.9/129.9 kB\u001b[0m \u001b[31m18.7 MB/s\u001b[0m eta \u001b[36m0:00:00\u001b[0m\n",
            "\u001b[?25hRequirement already satisfied: certifi in /usr/local/lib/python3.10/dist-packages (from yt-dlp) (2023.7.22)\n",
            "Collecting brotli (from yt-dlp)\n",
            "  Downloading Brotli-1.1.0-cp310-cp310-manylinux_2_5_x86_64.manylinux1_x86_64.manylinux_2_12_x86_64.manylinux2010_x86_64.whl (3.0 MB)\n",
            "\u001b[2K     \u001b[90m━━━━━━━━━━━━━━━━━━━━━━━━━━━━━━━━━━━━━━━━\u001b[0m \u001b[32m3.0/3.0 MB\u001b[0m \u001b[31m72.0 MB/s\u001b[0m eta \u001b[36m0:00:00\u001b[0m\n",
            "\u001b[?25hInstalling collected packages: brotli, websockets, pycryptodomex, mutagen, yt-dlp\n",
            "Successfully installed brotli-1.1.0 mutagen-1.47.0 pycryptodomex-3.19.0 websockets-11.0.3 yt-dlp-2023.10.13\n"
          ]
        }
      ]
    },
    {
      "cell_type": "code",
      "source": [
        "pip install pydub"
      ],
      "metadata": {
        "colab": {
          "base_uri": "https://localhost:8080/"
        },
        "id": "iyw0SVf_RcP8",
        "outputId": "9d8ce642-ae65-417c-e28e-bdc65f1f31c2"
      },
      "execution_count": 4,
      "outputs": [
        {
          "output_type": "stream",
          "name": "stdout",
          "text": [
            "Collecting pydub\n",
            "  Downloading pydub-0.25.1-py2.py3-none-any.whl (32 kB)\n",
            "Installing collected packages: pydub\n",
            "Successfully installed pydub-0.25.1\n"
          ]
        }
      ]
    },
    {
      "cell_type": "code",
      "source": [
        "from google.colab import drive\n",
        "drive.mount('/content/gdrive')"
      ],
      "metadata": {
        "colab": {
          "base_uri": "https://localhost:8080/"
        },
        "id": "8XCszRZw7iE5",
        "outputId": "ef1db07e-52f2-4410-f879-f07cb77aa55d"
      },
      "execution_count": 5,
      "outputs": [
        {
          "output_type": "stream",
          "name": "stdout",
          "text": [
            "Mounted at /content/gdrive\n"
          ]
        }
      ]
    },
    {
      "cell_type": "code",
      "source": [
        "from __future__ import unicode_literals\n",
        "from pydub import AudioSegment\n",
        "import yt_dlp\n",
        "import urllib\n",
        "import shutil\n",
        "import os\n",
        "\n",
        "output_ext = 0              # Escreva 0 para músicas ou 1 para vídeos\n",
        "\n",
        "folder_name = \"videoss\"    #Coloque o nome da pasta para onde as músicas vão, entre aspas. Caso a pasta não exista, ela será criada automaticamente\n",
        "\n",
        " #Coloque os links do vídeo no lugar desses abaixo, mantendo as aspas e colocando uma vírgula no final (exceto no último link)\n",
        "videos_list = [\n",
        "'https://www.youtube.com/playlist?list=PLchDciESfLxhIDWFjSXJEmoCAtA0MjvsC'\n",
        "]\n",
        "\n",
        "if output_ext == 0:\n",
        "  ydl_opts = {\n",
        "        'format': 'm4a/bestaudio/best',\n",
        "        'outtmpl': '%(title)s.%(ext)s',\n",
        "    }\n",
        "\n",
        "if output_ext == 1:\n",
        "  ydl_opts = {\n",
        "        'format': 'mp4/bestvideo/best',\n",
        "        'outtmpl': '%(title)s.%(ext)s',\n",
        "    }\n",
        "\n",
        "for i in range(0, len(videos_list)):\n",
        "  with yt_dlp.YoutubeDL(ydl_opts) as ydl:\n",
        "    url = ydl.extract_info(videos_list[i], download=False)\n",
        "    title = url.get('title', None)\n",
        "    video = ydl.download([videos_list[i]])"
      ],
      "metadata": {
        "id": "muABB0fFL89r"
      },
      "execution_count": null,
      "outputs": []
    },
    {
      "cell_type": "code",
      "source": [
        "itens = []\n",
        "ext = []\n",
        "titles = []\n",
        "content = os.listdir('/content/')\n",
        "for i in range (0, len(content)):\n",
        "  itens.append(content[i])\n",
        "if \".config\" in itens:\n",
        "  itens.remove(\".config\")\n",
        "if \".ipynb_checkpoints\" in itens:\n",
        "  itens.remove(\".ipynb_checkpoints\")\n",
        "if \"gdrive\" in itens:\n",
        "  itens.remove(\"gdrive\")\n",
        "if \"sample_data\" in itens:\n",
        "  itens.remove(\"sample_data\")\n",
        "if not os.path.exists(f\"/content/gdrive/MyDrive/{folder_name}\"):\n",
        "    os.mkdir(f\"/content/gdrive/MyDrive/{folder_name}\")\n",
        "print(itens)\n",
        "for i in range (0,len(itens)):\n",
        "  extention = os.path.splitext(itens[i])[1]\n",
        "  ext.append(extention[1:])\n",
        "  titles.append(os.path.splitext(itens[i])[0])\n",
        "\n",
        "\n",
        "if output_ext == 0:\n",
        "  for i in range(0, len(ext)):\n",
        "    previous_audio = AudioSegment.from_file(f\"{titles[i]}.{ext[i]}\", format=ext[i])\n",
        "    new_audio = previous_audio.export(f\"{titles[i]}.mp3\", format=\"mp3\")\n",
        "    shutil.move(f\"/content/{titles[i]}.{ext[i]}\", f\"/content/gdrive/MyDrive/{folder_name}/{titles[i]}.mp3\")\n",
        "\n",
        "if output_ext == 1:\n",
        "  for i in range(0, len(ext)):\n",
        "    shutil.move(f\"/content/{titles[i]}.{ext[i]}\", f\"/content/gdrive/MyDrive/{folder_name}/{titles[i]}.{ext[i]}\")"
      ],
      "metadata": {
        "id": "8Z1F5ELuE0Wu",
        "colab": {
          "base_uri": "https://localhost:8080/"
        },
        "outputId": "d894ae61-0705-473e-89df-8ddc5895be73"
      },
      "execution_count": 15,
      "outputs": [
        {
          "output_type": "stream",
          "name": "stdout",
          "text": [
            "[\"At Death's Door (隣死) - Umineko no Naku Koro ni ： Episode 1.m4a\", 'Stupefaction - Umineko no Naku Koro ni ： Episode 1.m4a', \"Life's End (終焉_VerC) - Umineko no Naku Koro ni ： Episode 2.m4a\", 'Dead Angle [Musicbox Version] - Umineko no Naku Koro ni ： Episode 1.m4a', 'Play - Umineko no Naku Koro ni ： Episode 1.m4a', 'Mind - Umineko no Naku Koro ni ： Episode 1.m4a', 'Hour of darkness ⧸ Dark Engraving (暗闇の刻) - Umineko no Naku Koro ni ： Episode 1.m4a', 'Steady Pace (Tekuteku) - Umineko no Naku Koro ni ： Episode 1.m4a', 'Suspicion - Umineko no Naku Koro ni ： Episode 1.m4a', 'Scar Sound (痕音) - Umineko no Naku Koro ni ： Episode 1.m4a', 'Rose (薔薇) - Umineko no Naku Koro ni ： Episode 1.m4a', 'Lure (誘い) - Umineko no Naku Koro ni ： Episode 1.m4a', 'Minute Darkness - Umineko no Naku Koro ni ： Episode 1.m4a', 'Witch of the Painting (絵画の魔女) - Umineko no Naku Koro ni ： Episode 1.m4a', \"Corridor of Purgatory's Sands (煉沙回廊) - Umineko no Naku Koro ni ： Episode 1.m4a\", 'Closed My Heart - Umineko no Naku Koro ni ： Episode 1.m4a', 'Eternal Chains (永遠の鎖) - Umineko no Naku Koro ni Chiru ： Episode 6.m4a', 'Moonlit Night (Slowmotion) - Umineko no Naku Koro ni ： Episode 1.m4a', 'Sukashiyuri (透百合) - Umineko no Naku Koro ni ： Episode 1.m4a', 'Swallowtail Butterfly (Ageha) - Umineko no Naku Koro ni ： Episode 1.m4a', 'Bring The Fate - Umineko no Naku Koro ni ： Episode 1.m4a']\n"
          ]
        }
      ]
    }
  ]
}