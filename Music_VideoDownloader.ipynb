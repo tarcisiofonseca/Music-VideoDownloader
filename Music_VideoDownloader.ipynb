{
  "nbformat": 4,
  "nbformat_minor": 0,
  "metadata": {
    "colab": {
      "provenance": []
    },
    "kernelspec": {
      "name": "python3",
      "display_name": "Python 3"
    },
    "language_info": {
      "name": "python"
    }
  },
  "cells": [
    {
      "cell_type": "code",
      "source": [
        "pip install shutil"
      ],
      "metadata": {
        "id": "6BbkmUA27eY5"
      },
      "execution_count": null,
      "outputs": []
    },
    {
      "cell_type": "code",
      "source": [
        "pip install pytube"
      ],
      "metadata": {
        "id": "HanEWtZesvjY"
      },
      "execution_count": null,
      "outputs": []
    },
    {
      "cell_type": "code",
      "source": [
        "pip install -U yt-dlp"
      ],
      "metadata": {
        "id": "bgAzqtus4kXF"
      },
      "execution_count": null,
      "outputs": []
    },
    {
      "cell_type": "code",
      "source": [
        "pip install pydub"
      ],
      "metadata": {
        "id": "iyw0SVf_RcP8"
      },
      "execution_count": null,
      "outputs": []
    },
    {
      "cell_type": "code",
      "source": [
        "from google.colab import drive\n",
        "drive.mount('/content/gdrive')"
      ],
      "metadata": {
        "id": "8XCszRZw7iE5"
      },
      "execution_count": null,
      "outputs": []
    },
    {
      "cell_type": "code",
      "source": [
        "from __future__ import unicode_literals\n",
        "from pydub import AudioSegment\n",
        "import yt_dlp\n",
        "import urllib\n",
        "import shutil\n",
        "import os\n",
        "\n",
        "output_ext = 1            # Change the value to 0 to get just the audio, or keep it as 1 to get both audio and video\n",
        "\n",
        "folder_name = \"Videos\"    # Write the folder name, between quotation marks, to where downloads will be stored. If the folder doesn't exist yet, it will be created\n",
        "\n",
        "\n",
        "videos_list = [           # Just like the example below, place the links between quotation marks, and separating them with a comma (except for the last one)\n",
        "'https://www.youtube.com/watch?v=Lo2qQmj0_h4',\n",
        "'https://www.youtube.com/watch?v=v2AC41dglnM',\n",
        "'https://www.youtube.com/watch?v=pAgnJDJN4VA'\n",
        "]\n",
        "\n",
        "if output_ext == 0:\n",
        "  ydl_opts = {\n",
        "        'format': 'm4a/bestaudio/best',\n",
        "        'outtmpl': '%(title)s.%(ext)s',\n",
        "    }\n",
        "\n",
        "if output_ext == 1:\n",
        "  ydl_opts = {\n",
        "        'format': 'mp4/bestvideo/best',\n",
        "        'outtmpl': '%(title)s.%(ext)s',\n",
        "    }\n",
        "\n",
        "for i in range(0, len(videos_list)):\n",
        "  with yt_dlp.YoutubeDL(ydl_opts) as ydl:\n",
        "    url = ydl.extract_info(videos_list[i], download=False)\n",
        "    title = url.get('title', None)\n",
        "    video = ydl.download([videos_list[i]])"
      ],
      "metadata": {
        "id": "muABB0fFL89r"
      },
      "execution_count": null,
      "outputs": []
    },
    {
      "cell_type": "code",
      "source": [
        "itens = []\n",
        "ext = []\n",
        "titles = []\n",
        "content = os.listdir('/content/')\n",
        "for i in range (0, len(content)):\n",
        "  itens.append(content[i])\n",
        "if \".config\" in itens:\n",
        "  itens.remove(\".config\")\n",
        "if \".ipynb_checkpoints\" in itens:\n",
        "  itens.remove(\".ipynb_checkpoints\")\n",
        "if \"gdrive\" in itens:\n",
        "  itens.remove(\"gdrive\")\n",
        "if \"sample_data\" in itens:\n",
        "  itens.remove(\"sample_data\")\n",
        "if not os.path.exists(f\"/content/gdrive/MyDrive/{folder_name}\"):\n",
        "    os.mkdir(f\"/content/gdrive/MyDrive/{folder_name}\")\n",
        "for i in range (0,len(itens)):\n",
        "  extention = os.path.splitext(itens[i])[1]\n",
        "  ext.append(extention[1:])\n",
        "  titles.append(os.path.splitext(itens[i])[0])\n",
        "\n",
        "\n",
        "if output_ext == 0:\n",
        "  for i in range(0, len(ext)):\n",
        "    previous_audio = AudioSegment.from_file(f\"{titles[i]}.{ext[i]}\", format=ext[i])\n",
        "    new_audio = previous_audio.export(f\"{titles[i]}.mp3\", format=\"mp3\")\n",
        "    shutil.move(f\"/content/{titles[i]}.{ext[i]}\", f\"/content/gdrive/MyDrive/{folder_name}/{titles[i]}.mp3\")\n",
        "\n",
        "if output_ext == 1:\n",
        "  for i in range(0, len(ext)):\n",
        "    shutil.move(f\"/content/{titles[i]}.{ext[i]}\", f\"/content/gdrive/MyDrive/{folder_name}/{titles[i]}.{ext[i]}\")"
      ],
      "metadata": {
        "id": "8Z1F5ELuE0Wu",
        "colab": {
          "base_uri": "https://localhost:8080/"
        },
        "outputId": "27302425-4797-4350-c953-1d0c58545815"
      },
      "execution_count": 20,
      "outputs": [
        {
          "output_type": "stream",
          "name": "stdout",
          "text": [
            "[]\n"
          ]
        }
      ]
    }
  ]
}